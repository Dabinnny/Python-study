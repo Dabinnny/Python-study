{
 "cells": [
  {
   "cell_type": "markdown",
   "id": "0d7f15db",
   "metadata": {},
   "source": [
    "# 내장함수"
   ]
  },
  {
   "cell_type": "code",
   "execution_count": 1,
   "id": "fd443958",
   "metadata": {},
   "outputs": [
    {
     "data": {
      "text/plain": [
       "1.2"
      ]
     },
     "execution_count": 1,
     "metadata": {},
     "output_type": "execute_result"
    }
   ],
   "source": [
    "# abs : 절대값 반환\n",
    "abs(-1.2)"
   ]
  },
  {
   "cell_type": "code",
   "execution_count": 8,
   "id": "8187181c",
   "metadata": {},
   "outputs": [
    {
     "name": "stdout",
     "output_type": "stream",
     "text": [
      "True\n",
      "False\n",
      "True\n"
     ]
    }
   ],
   "source": [
    "# all : 요소가 모두 참이면 True, 아니면 False\n",
    "print(all([1,2]))\n",
    "print(all([1,0]))\n",
    "print(all([])) #비었을때 True"
   ]
  },
  {
   "cell_type": "code",
   "execution_count": 9,
   "id": "13948f9a",
   "metadata": {},
   "outputs": [
    {
     "name": "stdout",
     "output_type": "stream",
     "text": [
      "True\n",
      "False\n",
      "False\n"
     ]
    }
   ],
   "source": [
    "# any : 요소 중 하나라도 참이면 True, 모두 거짓일때만 False\n",
    "print(any([1,0]))\n",
    "print(any([0]))\n",
    "print(any([])) #비었을때 False"
   ]
  },
  {
   "cell_type": "code",
   "execution_count": 10,
   "id": "53009f05",
   "metadata": {},
   "outputs": [
    {
     "name": "stdout",
     "output_type": "stream",
     "text": [
      "a\n",
      "가\n"
     ]
    }
   ],
   "source": [
    "# chr : 유니코드값에 따라 숫자 -> 문자 변환\n",
    "print(chr(97))\n",
    "print(chr(44032))"
   ]
  },
  {
   "cell_type": "code",
   "execution_count": 11,
   "id": "5f00fce6",
   "metadata": {},
   "outputs": [
    {
     "name": "stdout",
     "output_type": "stream",
     "text": [
      "(2, 1)\n",
      "2\n",
      "1\n"
     ]
    }
   ],
   "source": [
    "# divmod : (a, b)를 입력 받고 a를 b로 나눈 몫과 나머지를 튜플 형태로 반환\n",
    "print(divmod(7,3))\n",
    "print(7//3)\n",
    "print(7%3)"
   ]
  },
  {
   "cell_type": "code",
   "execution_count": 12,
   "id": "3a50825e",
   "metadata": {},
   "outputs": [
    {
     "name": "stdout",
     "output_type": "stream",
     "text": [
      "0 a\n",
      "1 b\n",
      "2 c\n"
     ]
    }
   ],
   "source": [
    "# enumerate : 리스트, 튜플, 문자열을 입력으로 받아 인덱스와 객체값 반환\n",
    "for i, name in enumerate(['a','b','c']):\n",
    "    print(i, name)"
   ]
  },
  {
   "cell_type": "code",
   "execution_count": 16,
   "id": "b2d5c790",
   "metadata": {},
   "outputs": [
    {
     "name": "stdout",
     "output_type": "stream",
     "text": [
      "[1, 2, 6]\n",
      "[1, 2, 6]\n"
     ]
    }
   ],
   "source": [
    "# filter : (함수,인자값)입력받아 함수 반환값이 참인것만 반환\n",
    "def positive (x):\n",
    "    return x > 0\n",
    "\n",
    "print(list(filter(positive,[1,-3,2,0,-5,6])))\n",
    "\n",
    "print(list(filter(lambda x : x > 0,[1,-3,2,0,-5,6])))"
   ]
  },
  {
   "cell_type": "code",
   "execution_count": 20,
   "id": "a125eb39",
   "metadata": {},
   "outputs": [
    {
     "name": "stdout",
     "output_type": "stream",
     "text": [
      "[1, 4, 9, 16]\n",
      "[3, 6, 9, 12]\n"
     ]
    }
   ],
   "source": [
    "# map : (함수,인자값)입력받아 함수 수행값 반환\n",
    "def two(x):\n",
    "    return x**2\n",
    "\n",
    "print(list(map(two,[1,2,3,4])))\n",
    "\n",
    "print(list(map(lambda x : x*3,[1,2,3,4])))"
   ]
  },
  {
   "cell_type": "code",
   "execution_count": 21,
   "id": "98a15926",
   "metadata": {},
   "outputs": [
    {
     "name": "stdout",
     "output_type": "stream",
     "text": [
      "98\n",
      "49436\n"
     ]
    }
   ],
   "source": [
    "# ord : 유니코드 값에 따라 문자 -> 숫자 변환\n",
    "print(ord('b'))\n",
    "print(ord('서'))"
   ]
  },
  {
   "cell_type": "code",
   "execution_count": 22,
   "id": "dc42e087",
   "metadata": {},
   "outputs": [
    {
     "name": "stdout",
     "output_type": "stream",
     "text": [
      "16\n"
     ]
    }
   ],
   "source": [
    "# pow : (a,b) a의 b제곱값 반환\n",
    "print(pow(2,4))"
   ]
  },
  {
   "cell_type": "code",
   "execution_count": 28,
   "id": "a8608b4d",
   "metadata": {},
   "outputs": [
    {
     "name": "stdout",
     "output_type": "stream",
     "text": [
      "[3, 1, 2]\n",
      "[1, 2, 3]\n",
      "None\n",
      "[1, 2, 3]\n"
     ]
    }
   ],
   "source": [
    "# sorted : 정렬 후 리스트로 반환\n",
    "# sort : 정렬만 하고 반환x\n",
    "a = [3,1,2]\n",
    "print(a)\n",
    "print(sorted(a))\n",
    "print(a.sort())\n",
    "print(a)  # 정렬된 값이 리턴되지 않고 원본 리스트가 수정"
   ]
  }
 ],
 "metadata": {
  "kernelspec": {
   "display_name": "Python 3 (ipykernel)",
   "language": "python",
   "name": "python3"
  },
  "language_info": {
   "codemirror_mode": {
    "name": "ipython",
    "version": 3
   },
   "file_extension": ".py",
   "mimetype": "text/x-python",
   "name": "python",
   "nbconvert_exporter": "python",
   "pygments_lexer": "ipython3",
   "version": "3.8.12"
  }
 },
 "nbformat": 4,
 "nbformat_minor": 5
}
