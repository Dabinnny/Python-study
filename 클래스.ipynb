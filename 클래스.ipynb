{
  "nbformat": 4,
  "nbformat_minor": 0,
  "metadata": {
    "colab": {
      "name": "클래스.ipynb",
      "provenance": [],
      "collapsed_sections": [],
      "authorship_tag": "ABX9TyMYYvDHlKqLm0xt6FYR9TTw",
      "include_colab_link": true
    },
    "kernelspec": {
      "name": "python3",
      "display_name": "Python 3"
    },
    "language_info": {
      "name": "python"
    }
  },
  "cells": [
    {
      "cell_type": "markdown",
      "metadata": {
        "id": "view-in-github",
        "colab_type": "text"
      },
      "source": [
        "<a href=\"https://colab.research.google.com/github/Dabinnny/Python-study/blob/main/%ED%81%B4%EB%9E%98%EC%8A%A4.ipynb\" target=\"_parent\"><img src=\"https://colab.research.google.com/assets/colab-badge.svg\" alt=\"Open In Colab\"/></a>"
      ]
    },
    {
      "cell_type": "markdown",
      "source": [
        "# **클래스**"
      ],
      "metadata": {
        "id": "P0TW0BQBV1uw"
      }
    },
    {
      "cell_type": "code",
      "source": [
        "'''\n",
        "이전에 계산한 결괏값을 유지하기 위해 global result를 사용하고\n",
        "sum함수는 변수 num에 받은 값을 이전에 계산한 결괏값에 더한 후 돌려주는 함수\n",
        "'''\n",
        "\n",
        "result = 0\n",
        "\n",
        "def add(num):\n",
        "  global result\n",
        "  result += num\n",
        "  return result\n",
        "\n",
        "print(add(5))\n",
        "print(add(4))"
      ],
      "metadata": {
        "colab": {
          "base_uri": "https://localhost:8080/"
        },
        "id": "PtgtI1rbV5GY",
        "outputId": "d182f391-7766-4a8b-d258-a2c4ceb09dbb"
      },
      "execution_count": 27,
      "outputs": [
        {
          "output_type": "stream",
          "name": "stdout",
          "text": [
            "5\n",
            "9\n"
          ]
        }
      ]
    },
    {
      "cell_type": "code",
      "source": [
        "'''\n",
        "한 프로그램에서 2대의 계산기가 필요하다면?\n",
        "sum함수 하나로는 안되고 하나를 더 만들어야 한다. 더 많은 계산이 필요할때 간단히 해결하기 위해 클래스 사용\n",
        "'''\n",
        "result = 0\n",
        "\n",
        "class Calculator:\n",
        "  def __init__(self):\n",
        "    self.result = 0\n",
        "\n",
        "  def sum(self, num):\n",
        "      self.result += num\n",
        "      return self.result\n",
        "\n",
        "cal1 = Calculator()\n",
        "cal2 = Calculator()\n",
        "\n",
        "print(cal1.sum(5))\n",
        "print(cal1.sum(4))\n",
        "print(cal2.sum(1))\n",
        "print(cal2.sum(3))"
      ],
      "metadata": {
        "colab": {
          "base_uri": "https://localhost:8080/"
        },
        "id": "WOih3CiHW6gh",
        "outputId": "c3eaddbd-036f-4a44-f635-cfab6f7ad161"
      },
      "execution_count": null,
      "outputs": [
        {
          "output_type": "stream",
          "name": "stdout",
          "text": [
            "5\n",
            "9\n",
            "1\n",
            "4\n"
          ]
        }
      ]
    },
    {
      "cell_type": "code",
      "source": [
        "class FourCal:\n",
        "  def __init__(self, first, second):\n",
        "    self.first = first\n",
        "    self.second = second\n",
        "  def setdata(self, first, second):\n",
        "    self.first = first\n",
        "    self.second = second\n",
        "  def sum(self):\n",
        "    result = self.first + self.second\n",
        "    return result\n",
        "  def div(self):\n",
        "    result = self.first / self.second\n",
        "    return result"
      ],
      "metadata": {
        "id": "2XhTcXA2i05g"
      },
      "execution_count": null,
      "outputs": []
    },
    {
      "cell_type": "code",
      "source": [
        "a = FourCal()\n",
        "a.setdata(4,2)\n",
        "print(a.sum())\n"
      ],
      "metadata": {
        "colab": {
          "base_uri": "https://localhost:8080/"
        },
        "id": "NhXbs8lfjR6s",
        "outputId": "d75176c2-7889-43f3-ba9f-283b7dd62b37"
      },
      "execution_count": null,
      "outputs": [
        {
          "output_type": "stream",
          "name": "stdout",
          "text": [
            "6\n"
          ]
        }
      ]
    },
    {
      "cell_type": "code",
      "source": [
        "a = FourCal()\n",
        "print(FourCal.setdata(4,2))\n",
        "#a = FourCal()을 수행할 때 생성자 __init__이 호출되어 이와 같은 오류가 발생\n",
        "#생성자의 매개변수 first와 second에 해당하는 값이 전달되지 않았기 때문"
      ],
      "metadata": {
        "colab": {
          "base_uri": "https://localhost:8080/",
          "height": 184
        },
        "id": "3aCo5FjHjabd",
        "outputId": "4586aaff-8a12-4e9e-8d10-7266317e2851"
      },
      "execution_count": null,
      "outputs": [
        {
          "output_type": "error",
          "ename": "TypeError",
          "evalue": "ignored",
          "traceback": [
            "\u001b[0;31m---------------------------------------------------------------------------\u001b[0m",
            "\u001b[0;31mTypeError\u001b[0m                                 Traceback (most recent call last)",
            "\u001b[0;32m<ipython-input-23-1a9c2e9f636c>\u001b[0m in \u001b[0;36m<module>\u001b[0;34m()\u001b[0m\n\u001b[0;32m----> 1\u001b[0;31m \u001b[0ma\u001b[0m \u001b[0;34m=\u001b[0m \u001b[0mFourCal\u001b[0m\u001b[0;34m(\u001b[0m\u001b[0;34m)\u001b[0m\u001b[0;34m\u001b[0m\u001b[0;34m\u001b[0m\u001b[0m\n\u001b[0m\u001b[1;32m      2\u001b[0m \u001b[0mprint\u001b[0m\u001b[0;34m(\u001b[0m\u001b[0mFourCal\u001b[0m\u001b[0;34m.\u001b[0m\u001b[0msetdata\u001b[0m\u001b[0;34m(\u001b[0m\u001b[0;36m4\u001b[0m\u001b[0;34m,\u001b[0m\u001b[0;36m2\u001b[0m\u001b[0;34m)\u001b[0m\u001b[0;34m)\u001b[0m\u001b[0;34m\u001b[0m\u001b[0;34m\u001b[0m\u001b[0m\n",
            "\u001b[0;31mTypeError\u001b[0m: __init__() missing 2 required positional arguments: 'first' and 'second'"
          ]
        }
      ]
    },
    {
      "cell_type": "code",
      "source": [
        "a = FourCal(4,2) #다음처럼 first와 second에 해당되는 값을 전달하여 객체를 생성해야함\n",
        "print(a.sum())"
      ],
      "metadata": {
        "colab": {
          "base_uri": "https://localhost:8080/"
        },
        "id": "vSMOFuD7lH_T",
        "outputId": "a377b1f9-5a87-4ddf-955b-9dd5499e381f"
      },
      "execution_count": null,
      "outputs": [
        {
          "output_type": "stream",
          "name": "stdout",
          "text": [
            "6\n"
          ]
        }
      ]
    },
    {
      "cell_type": "code",
      "source": [
        "a = FourCal(4,0)\n",
        "print(a.div()) #ZeroDivisionError 오류가 날때 0으로 반환값을 설정하려면? -> 메서드 오버라이딩"
      ],
      "metadata": {
        "colab": {
          "base_uri": "https://localhost:8080/",
          "height": 288
        },
        "id": "m0iIM0ayoeeo",
        "outputId": "c61c8949-df09-4bf9-d4b6-85b3ba7b32eb"
      },
      "execution_count": null,
      "outputs": [
        {
          "output_type": "error",
          "ename": "ZeroDivisionError",
          "evalue": "ignored",
          "traceback": [
            "\u001b[0;31m---------------------------------------------------------------------------\u001b[0m",
            "\u001b[0;31mZeroDivisionError\u001b[0m                         Traceback (most recent call last)",
            "\u001b[0;32m<ipython-input-29-8d77b3fd9e43>\u001b[0m in \u001b[0;36m<module>\u001b[0;34m()\u001b[0m\n\u001b[1;32m      1\u001b[0m \u001b[0ma\u001b[0m \u001b[0;34m=\u001b[0m \u001b[0mFourCal\u001b[0m\u001b[0;34m(\u001b[0m\u001b[0;36m4\u001b[0m\u001b[0;34m,\u001b[0m\u001b[0;36m0\u001b[0m\u001b[0;34m)\u001b[0m\u001b[0;34m\u001b[0m\u001b[0;34m\u001b[0m\u001b[0m\n\u001b[0;32m----> 2\u001b[0;31m \u001b[0mprint\u001b[0m\u001b[0;34m(\u001b[0m\u001b[0ma\u001b[0m\u001b[0;34m.\u001b[0m\u001b[0mdiv\u001b[0m\u001b[0;34m(\u001b[0m\u001b[0;34m)\u001b[0m\u001b[0;34m)\u001b[0m\u001b[0;34m\u001b[0m\u001b[0;34m\u001b[0m\u001b[0m\n\u001b[0m",
            "\u001b[0;32m<ipython-input-28-88e61db2e29c>\u001b[0m in \u001b[0;36mdiv\u001b[0;34m(self)\u001b[0m\n\u001b[1;32m     10\u001b[0m     \u001b[0;32mreturn\u001b[0m \u001b[0mresult\u001b[0m\u001b[0;34m\u001b[0m\u001b[0;34m\u001b[0m\u001b[0m\n\u001b[1;32m     11\u001b[0m   \u001b[0;32mdef\u001b[0m \u001b[0mdiv\u001b[0m\u001b[0;34m(\u001b[0m\u001b[0mself\u001b[0m\u001b[0;34m)\u001b[0m\u001b[0;34m:\u001b[0m\u001b[0;34m\u001b[0m\u001b[0;34m\u001b[0m\u001b[0m\n\u001b[0;32m---> 12\u001b[0;31m     \u001b[0mresult\u001b[0m \u001b[0;34m=\u001b[0m \u001b[0mself\u001b[0m\u001b[0;34m.\u001b[0m\u001b[0mfirst\u001b[0m \u001b[0;34m/\u001b[0m \u001b[0mself\u001b[0m\u001b[0;34m.\u001b[0m\u001b[0msecond\u001b[0m\u001b[0;34m\u001b[0m\u001b[0;34m\u001b[0m\u001b[0m\n\u001b[0m\u001b[1;32m     13\u001b[0m     \u001b[0;32mreturn\u001b[0m \u001b[0mresult\u001b[0m\u001b[0;34m\u001b[0m\u001b[0;34m\u001b[0m\u001b[0m\n",
            "\u001b[0;31mZeroDivisionError\u001b[0m: division by zero"
          ]
        }
      ]
    },
    {
      "cell_type": "code",
      "source": [
        "class SafeFourCal(FourCal):\n",
        "  def div(self):\n",
        "    if self.second == 0 :\n",
        "      return 0\n",
        "    else : \n",
        "      return self.first / self.second"
      ],
      "metadata": {
        "id": "sy0qk_K4ovT3"
      },
      "execution_count": null,
      "outputs": []
    },
    {
      "cell_type": "code",
      "source": [
        "a = SafeFourCal(4,0)  #이때는 부모클래스 대신에 오버라이딩한 메서드를 호출해야 한다.\n",
        "print(a.div())"
      ],
      "metadata": {
        "colab": {
          "base_uri": "https://localhost:8080/"
        },
        "id": "YVVSvjAeo_cN",
        "outputId": "57a5392b-6a11-45d6-e619-49d340d59748"
      },
      "execution_count": null,
      "outputs": [
        {
          "output_type": "stream",
          "name": "stdout",
          "text": [
            "0\n"
          ]
        }
      ]
    },
    {
      "cell_type": "code",
      "source": [
        "'''예제1'''\n",
        "\n",
        "class Calculator:\n",
        "  def __init__(self):\n",
        "    self.value = 0\n",
        "    \n",
        "  def add(self, val):\n",
        "    self.value += val\n",
        "    return value\n",
        "\n",
        "# 1. 위 클래스를 상속하는 UpgradeCalculator를 만들고 값을 뺄 수 있는 minus메서드를 추가해보자(상속)\n",
        "\n",
        "class UpgradeCalculator(Calculator):\n",
        "  def minus(self, val):\n",
        "    self.value -= val\n",
        "    return value\n",
        "\n",
        "cal = UpgradeCalculator()\n",
        "cal.add(10)\n",
        "cal.minus(7)\n",
        "\n",
        "print(cal.value)"
      ],
      "metadata": {
        "colab": {
          "base_uri": "https://localhost:8080/"
        },
        "id": "TptbpOgRvFoo",
        "outputId": "9517e9cf-7ff3-4a13-b0ac-af5750614c5e"
      },
      "execution_count": null,
      "outputs": [
        {
          "output_type": "stream",
          "name": "stdout",
          "text": [
            "3\n"
          ]
        }
      ]
    },
    {
      "cell_type": "code",
      "source": [
        "# 2. 객체변수 value가 100 이상의 값은 가질 수 없도록 제한하는 MaxLimitCalculator 클래스를 만들어 보자. \n",
        "class Calculator:\n",
        "  def __init__(self):\n",
        "    self.value = 0\n",
        "  \n",
        "  def add(self, val):\n",
        "    self.value += val\n",
        "\n",
        "class MaxLimitCalculator(Calculator):\n",
        "  def add(self, val):\n",
        "     self.value += val\n",
        "     if self.value > 100:\n",
        "        self.value = 100\n",
        "\n",
        "cal = MaxLimitCalculator()\n",
        "cal.add(50) # 50 더하기\n",
        "cal.add(60) # 60 더하기\n",
        "\n",
        "print(cal.value) # 100 출력"
      ],
      "metadata": {
        "colab": {
          "base_uri": "https://localhost:8080/"
        },
        "id": "2NFQuarOxZ3o",
        "outputId": "139c971d-61da-475d-e4ab-d1f2b41ed96b"
      },
      "execution_count": null,
      "outputs": [
        {
          "output_type": "stream",
          "name": "stdout",
          "text": [
            "100\n"
          ]
        }
      ]
    },
    {
      "cell_type": "code",
      "source": [
        "# 비어있는 사람 (Human) 클래스를 \"정의\"\n",
        "class Human:  #클래스는 정의시에는 괄호사용x\n",
        "  pass\n",
        "\n",
        "\n",
        "# 사람 (Human) 클래스의 인스턴스를 \"생성\" 하고 이를 areum 변수로 할당\n",
        "class Human:\n",
        "  pass\n",
        "\n",
        "areum = Human()\n",
        "\n",
        "\n",
        "#사람 (Human) 클래스에 \"응애응애\"를 출력하는 생성자를 추가\n",
        "class Human:\n",
        "  def __init__(self):\n",
        "    print(\"응애응애\")\n",
        "  \n",
        "areum = Human()\n",
        "\n",
        "#사람 (Human) 클래스에 (이름, 나이, 성별)을 받는 생성자를 추가\n",
        "class Human:\n",
        "  def __init__(self, name, age, sex):\n",
        "    self.name = name\n",
        "    self.age = age\n",
        "    self.sex = sex\n",
        "\n",
        "  def who(self):\n",
        "    print(\"이름 : {} 나이 : {} 성별 : {}\".format(self.name,self.age,self.sex))\n",
        "\n",
        "areum = Human(\"다빈\",28,\"여자\")\n",
        "\n",
        "areum.who()\n",
        "Human.who(areum)\n",
        "\n",
        "\n",
        "#사람 (Human) 클래스에 (이름, 나이, 성별)을 받는 setInfo 메소드를 추가\n",
        "class Human:\n",
        "  def __init__(self, name, age, sex):\n",
        "    self.name = name\n",
        "    self.age = age\n",
        "    self.sex = sex\n",
        "\n",
        "  def who(self):\n",
        "    print(\"이름 : {} 나이 : {} 성별 : {}\".format(self.name,self.age,self.sex))\n",
        "\n",
        "  def setInfo(self, name, age, sex):\n",
        "      self.name = name\n",
        "      self.age = age\n",
        "      self.sex = sex\n",
        "\n",
        "areum = Human(\"불명\", \"미상\", \"모름\")\n",
        "areum.who()      # == Human.who(areum)\n",
        "\n",
        "areum.setInfo(\"다비\", 27, \"남자\")\n",
        "areum.who()      # == Human.who(areum)\n"
      ],
      "metadata": {
        "colab": {
          "base_uri": "https://localhost:8080/"
        },
        "id": "XVJNOq4hzyZM",
        "outputId": "6241b2ec-cb91-4f15-d2df-692bb94f136f"
      },
      "execution_count": null,
      "outputs": [
        {
          "output_type": "stream",
          "name": "stdout",
          "text": [
            "응애응애\n",
            "이름 : 다빈 나이 : 28 성별 : 여자\n",
            "이름 : 다빈 나이 : 28 성별 : 여자\n",
            "이름 : 불명 나이 : 미상 성별 : 모름\n",
            "이름 : 다비 나이 : 27 성별 : 남자\n"
          ]
        }
      ]
    },
    {
      "cell_type": "code",
      "source": [
        "# 에러가 발생하는 이유 알아보자\n",
        "class OMG:\n",
        "  def print():\n",
        "    print(\"Oh my god\")\n",
        "\n",
        "mystock = OMG()\n",
        "mystock.print() \n",
        "\n",
        "# 이렇게 호출하면 python은 자동으로 OMG.print(mystock)으로 호출하는데 \n",
        "# print는 인자가 없는데 mystock이라는 인자가 넘어갔기 때문에 에러발생\n",
        "# 해결하려면 self 인자 지정해주어야함 \n",
        "\n"
      ],
      "metadata": {
        "colab": {
          "base_uri": "https://localhost:8080/",
          "height": 236
        },
        "id": "WQY-qUee3AC3",
        "outputId": "caa0d8d5-8f05-40fb-e76e-f468b4ad624e"
      },
      "execution_count": null,
      "outputs": [
        {
          "output_type": "error",
          "ename": "TypeError",
          "evalue": "ignored",
          "traceback": [
            "\u001b[0;31m---------------------------------------------------------------------------\u001b[0m",
            "\u001b[0;31mTypeError\u001b[0m                                 Traceback (most recent call last)",
            "\u001b[0;32m<ipython-input-72-50da7c7698e5>\u001b[0m in \u001b[0;36m<module>\u001b[0;34m()\u001b[0m\n\u001b[1;32m      5\u001b[0m \u001b[0;34m\u001b[0m\u001b[0m\n\u001b[1;32m      6\u001b[0m \u001b[0mmystock\u001b[0m \u001b[0;34m=\u001b[0m \u001b[0mOMG\u001b[0m\u001b[0;34m(\u001b[0m\u001b[0;34m)\u001b[0m\u001b[0;34m\u001b[0m\u001b[0;34m\u001b[0m\u001b[0m\n\u001b[0;32m----> 7\u001b[0;31m \u001b[0mmystock\u001b[0m\u001b[0;34m.\u001b[0m\u001b[0mprint\u001b[0m\u001b[0;34m(\u001b[0m\u001b[0;34m)\u001b[0m\u001b[0;34m\u001b[0m\u001b[0;34m\u001b[0m\u001b[0m\n\u001b[0m\u001b[1;32m      8\u001b[0m \u001b[0;34m\u001b[0m\u001b[0m\n\u001b[1;32m      9\u001b[0m \u001b[0;31m# 이렇게 호출하면 python은 자동으로 OMG.print(mystock)으로 호출하는데\u001b[0m\u001b[0;34m\u001b[0m\u001b[0;34m\u001b[0m\u001b[0;34m\u001b[0m\u001b[0m\n",
            "\u001b[0;31mTypeError\u001b[0m: print() takes 0 positional arguments but 1 was given"
          ]
        }
      ]
    },
    {
      "cell_type": "code",
      "source": [
        "class OMG:\n",
        "  def print(self):\n",
        "    print(\"Oh my god\")\n",
        "\n",
        "mystock = OMG()\n",
        "mystock.print() \n"
      ],
      "metadata": {
        "colab": {
          "base_uri": "https://localhost:8080/"
        },
        "id": "duHrwZ6--3Ks",
        "outputId": "9d264a9a-6997-4868-f170-fbb9db8f588f"
      },
      "execution_count": null,
      "outputs": [
        {
          "output_type": "stream",
          "name": "stdout",
          "text": [
            "Oh my god\n"
          ]
        }
      ]
    },
    {
      "cell_type": "code",
      "source": [
        ""
      ],
      "metadata": {
        "id": "GeKpzfb7IdHN"
      },
      "execution_count": null,
      "outputs": []
    },
    {
      "cell_type": "code",
      "source": [
        "'''예제2'''\n",
        "\n",
        "#주식 종목에 대한 정보를 저장하는 Stock 클래스를 정의해보세요. 클래스는 속성과 메서드를 갖고 있지 않습니다.\n",
        "class Stock:\n",
        "  pass\n",
        "\n",
        "\n",
        "#Stock 클래스의 객체가 생성될 때 종목명과 종목코드를 입력 받을 수 있도록 생성자를 정의\n",
        "class Stock:\n",
        "  def __init__(self, name, code):\n",
        "    self.name = name\n",
        "    self.code = code\n",
        "\n",
        "a = Stock(\"삼성전자\",\"005930\")\n",
        "print(samsung.name)\n",
        "\n",
        "\n",
        "#객체에 종목명을 입력할 수 있는 set_name 메서드를 추가\n",
        "class Stock:\n",
        "  def __init__(self, name, code):\n",
        "    self.name = name\n",
        "    self.code = code\n",
        "\n",
        "  def set_name(self,name):\n",
        "    self.name = name\n",
        "\n",
        "a = Stock(None, None)\n",
        "a.set_name(\"삼성생명\")\n",
        "print(a.name)\n",
        "\n",
        "\n",
        "#객체에 종목코드를 입력할 수 있는 set_code 메서드를 추가\n",
        "class Stock:\n",
        "  def __init__(self, name, code):\n",
        "    self.name = name\n",
        "    self.code = code\n",
        "\n",
        "  def set_name(self,name):\n",
        "    self.name = name\n",
        "\n",
        "  def set_code(self,code):\n",
        "    self.code = code\n",
        "\n",
        "a = Stock(None, None)\n",
        "a.set_code(\"1228\")\n",
        "print(a.code)\n",
        "\n",
        "\n",
        "#종목명과 종목코드를 리턴하는 get_name, get_code 메서드를 추가\n",
        "class Stock:\n",
        "  def __init__(self, name, code):\n",
        "    self.name = name\n",
        "    self.code = code\n",
        "\n",
        "  def set_name(self,name):\n",
        "    self.name = name\n",
        "\n",
        "  def set_code(self,code):\n",
        "    self.code = code\n",
        "\n",
        "  def get_name(self):\n",
        "    return self.name\n",
        "\n",
        "  def get_code(self):\n",
        "    return self.code"
      ],
      "metadata": {
        "colab": {
          "base_uri": "https://localhost:8080/",
          "height": 236
        },
        "id": "Xpf50Ks8_GQa",
        "outputId": "7da90c38-5349-4b16-be07-e2776110039f"
      },
      "execution_count": 28,
      "outputs": [
        {
          "output_type": "error",
          "ename": "NameError",
          "evalue": "ignored",
          "traceback": [
            "\u001b[0;31m---------------------------------------------------------------------------\u001b[0m",
            "\u001b[0;31mNameError\u001b[0m                                 Traceback (most recent call last)",
            "\u001b[0;32m<ipython-input-28-b78aa7f72bac>\u001b[0m in \u001b[0;36m<module>\u001b[0;34m()\u001b[0m\n\u001b[1;32m     13\u001b[0m \u001b[0;34m\u001b[0m\u001b[0m\n\u001b[1;32m     14\u001b[0m \u001b[0ma\u001b[0m \u001b[0;34m=\u001b[0m \u001b[0mStock\u001b[0m\u001b[0;34m(\u001b[0m\u001b[0;34m\"삼성전자\"\u001b[0m\u001b[0;34m,\u001b[0m\u001b[0;34m\"005930\"\u001b[0m\u001b[0;34m)\u001b[0m\u001b[0;34m\u001b[0m\u001b[0;34m\u001b[0m\u001b[0m\n\u001b[0;32m---> 15\u001b[0;31m \u001b[0mprint\u001b[0m\u001b[0;34m(\u001b[0m\u001b[0msamsung\u001b[0m\u001b[0;34m.\u001b[0m\u001b[0mname\u001b[0m\u001b[0;34m)\u001b[0m\u001b[0;34m\u001b[0m\u001b[0;34m\u001b[0m\u001b[0m\n\u001b[0m\u001b[1;32m     16\u001b[0m \u001b[0;34m\u001b[0m\u001b[0m\n\u001b[1;32m     17\u001b[0m \u001b[0;34m\u001b[0m\u001b[0m\n",
            "\u001b[0;31mNameError\u001b[0m: name 'samsung' is not defined"
          ]
        }
      ]
    },
    {
      "cell_type": "code",
      "source": [
        "#종목명과 종목코드를 리턴하는 get_name, get_code 메서드를 추가\n",
        "class Stock:\n",
        "  def __init__(self, name, code):\n",
        "    self.name = name\n",
        "    self.code = code\n",
        "\n",
        "  def set_name(self,name):\n",
        "    self.name = name\n",
        "\n",
        "  def set_code(self,code):\n",
        "    self.code = code\n",
        "\n",
        "  def get_name(self):\n",
        "    return self.name\n",
        "\n",
        "  def get_code(self):\n",
        "    return self.code\n",
        "\n",
        "삼성 = Stock(\"삼성전자\", \"005930\")\n",
        "print(삼성.name)\n",
        "print(삼성.code)\n",
        "print(삼성.get_name())\n",
        "print(삼성.get_code())"
      ],
      "metadata": {
        "colab": {
          "base_uri": "https://localhost:8080/"
        },
        "id": "UZ7khZ1NB4iS",
        "outputId": "950fa426-b699-4b01-e4e8-8eb4480d0541"
      },
      "execution_count": null,
      "outputs": [
        {
          "output_type": "stream",
          "name": "stdout",
          "text": [
            "삼성전자\n",
            "005930\n",
            "삼성전자\n",
            "005930\n"
          ]
        }
      ]
    },
    {
      "cell_type": "code",
      "source": [
        "class Stock:\n",
        "  def __init__(self, name, code, PER, PBR, 배당수익률):\n",
        "    self.name = name\n",
        "    self.code = code\n",
        "    self.PER = PER\n",
        "    self.PBR = PBR\n",
        "    self.배당수익률 = 배당수익률\n",
        "\n",
        "kakao = Stock(\"카카오\",\"1228\",15.79,1.33,2.83)\n",
        "#print(kakao.PER)\n",
        "\n",
        "\n",
        "#PER은 변경될 수 있는 값으로 변경할 때 사용하는 set_per 메서드를 추가\n",
        "class Stock:\n",
        "  def __init__(self, name, code, PER, PBR, 배당수익률):\n",
        "    self.name = name\n",
        "    self.code = code\n",
        "    self.PER = PER\n",
        "    self.PBR = PBR\n",
        "    self.배당수익률 = 배당수익률\n",
        "\n",
        "  def set_per(self, PER):\n",
        "    self.PER = PER\n",
        "\n",
        "\n",
        "#생성한 객체에 set_per 메서드를 호출하여 per 값을 12.75로 수정\n",
        "kakao = Stock(\"카카오\",\"1228\",15.79,1.33,2.83)\n",
        "print(kakao.PER)\n",
        "kakao.set_per(12.75)\n",
        "print(kakao.PER)\n",
        "\n",
        "\n",
        "#3종목에 대해 객체를 생성하고 리스트에 저장 후 저장된 각 종목에 대해 for 루프를 통해 종목코드와 PER을 출력\n",
        "\n",
        "종목 = []\n",
        "\n",
        "삼성 = Stock(\"삼성전자\", \"005930\", 15.79, 1.33, 2.83)\n",
        "현대차 = Stock(\"현대차\", \"005380\", 8.70, 0.35, 4.27)\n",
        "LG전자 = Stock(\"LG전자\", \"066570\", 317.34, 0.69, 1.37)\n",
        "\n",
        "종목.append(삼성)\n",
        "종목.append(현대차)\n",
        "종목.append(LG전자)\n",
        "\n",
        "for i in 종목 : \n",
        "  print(i.code, i.PER)"
      ],
      "metadata": {
        "colab": {
          "base_uri": "https://localhost:8080/"
        },
        "id": "o5PySpFUCIxT",
        "outputId": "eff41aa1-01cd-40b6-c88f-3fe05d0c4cf0"
      },
      "execution_count": null,
      "outputs": [
        {
          "output_type": "stream",
          "name": "stdout",
          "text": [
            "15.79\n",
            "12.75\n",
            "005930 15.79\n",
            "005380 8.7\n",
            "066570 317.34\n"
          ]
        }
      ]
    },
    {
      "cell_type": "code",
      "source": [
        "'''예제3'''\n",
        "#은행에 가서 계좌를 개설하면 은행이름, 예금주, 계좌번호, 잔액이 설정\n",
        "#Account 클래스를 생성한 후 생성자에서는 예금주와 초기 잔액만 입력. \n",
        "#은행이름은 SC은행으로 계좌번호는 3자리-2자리-6자리 형태로 랜덤하게 생성\n",
        "import random\n",
        "\n",
        "class Account:\n",
        "    def __init__(self, name, balance):\n",
        "        self.name = name\n",
        "        self.balance = balance\n",
        "        self.bank = \"SC은행\"\n",
        "        \n",
        "        num1 = random.randint(0, 999)\n",
        "        num2 = random.randint(0, 99)\n",
        "        num3 = random.randint(0, 999999)\n",
        "\n",
        "        num1 = str(num1)\n",
        "        num2 = str(num2)\n",
        "        num3 = str(num3)\n",
        "\n",
        "        self.ac_num = num1+'-'+num2+'-'+num3\n",
        "\n",
        "\n",
        "S = Account(\"서다빈\", 500)\n",
        "print(S.name)\n",
        "print(S.balance)\n",
        "print(S.bank)\n",
        "print(S.ac_num)\n"
      ],
      "metadata": {
        "colab": {
          "base_uri": "https://localhost:8080/"
        },
        "id": "RnfHnFqTIVWR",
        "outputId": "689dedbb-8b10-436f-cde8-c2acf96f3152"
      },
      "execution_count": null,
      "outputs": [
        {
          "output_type": "stream",
          "name": "stdout",
          "text": [
            "서다빈\n",
            "500\n",
            "SC은행\n",
            "579-94-990172\n"
          ]
        }
      ]
    },
    {
      "cell_type": "code",
      "source": [
        "#클래스 변수를 사용해서 Account 클래스로부터 생성된 계좌 객체의 개수를 저장\n",
        "class Account:\n",
        "\n",
        "    acc_count = 0\n",
        "\n",
        "    def __init__(self, name, balance):\n",
        "        self.name = name\n",
        "        self.balance = balance\n",
        "        self.bank = \"SC은행\"\n",
        "        \n",
        "        num1 = random.randint(0, 999)\n",
        "        num2 = random.randint(0, 99)\n",
        "        num3 = random.randint(0, 999999)\n",
        "\n",
        "        num1 = str(num1)\n",
        "        num2 = str(num2)\n",
        "        num3 = str(num3)\n",
        "\n",
        "        self.ac_num = num1+'-'+num2+'-'+num3\n",
        "\n",
        "        Account.acc_count += 1\n",
        "\n",
        "S = Account(\"서다빈\", 500)\n",
        "print(S.name)\n",
        "print(S.balance)\n",
        "print(S.bank)\n",
        "print(S.ac_num)\n",
        "print(Account.acc_count)\n",
        "print(\"--------------------------\")\n",
        "V = Account(\"다비\", 100)\n",
        "print(V.name)\n",
        "print(V.balance)\n",
        "print(V.bank)\n",
        "print(V.ac_num)\n",
        "print(Account.acc_count)"
      ],
      "metadata": {
        "colab": {
          "base_uri": "https://localhost:8080/"
        },
        "id": "J7gqZxKwLGLL",
        "outputId": "ffca140b-f4a8-4693-fdc9-6142c6dcf9dc"
      },
      "execution_count": null,
      "outputs": [
        {
          "output_type": "stream",
          "name": "stdout",
          "text": [
            "서다빈\n",
            "500\n",
            "SC은행\n",
            "376-61-883899\n",
            "1\n",
            "--------------------------\n",
            "다비\n",
            "100\n",
            "SC은행\n",
            "509-54-919003\n",
            "2\n"
          ]
        }
      ]
    },
    {
      "cell_type": "code",
      "source": [
        "#Account 클래스로부터 생성된 계좌의 개수를 출력하는 get_account_num() 메서드를 추가\n",
        "\n",
        "class Account:\n",
        "\n",
        "    acc_count = 0\n",
        "\n",
        "    def __init__(self, name, balance):\n",
        "        self.name = name\n",
        "        self.balance = balance\n",
        "        self.bank = \"SC은행\"\n",
        "        \n",
        "        num1 = random.randint(0, 999)\n",
        "        num2 = random.randint(0, 99)\n",
        "        num3 = random.randint(0, 999999)\n",
        "\n",
        "        num1 = str(num1)\n",
        "        num2 = str(num2)\n",
        "        num3 = str(num3)\n",
        "\n",
        "        self.ac_num = num1+'-'+num2+'-'+num3\n",
        "\n",
        "        Account.acc_count += 1\n",
        "\n",
        "    def get_account_num(self):\n",
        "      print(Account.acc_count)\n",
        "\n",
        "\n",
        "kim = Account(\"김민수\", 100)\n",
        "lee = Account(\"이민수\", 100)\n",
        "seo = Account(\"서다빈\", 100)\n",
        "lee.get_account_num() #인스턴스를 어떤걸 지정해도 메모리에 3개가 저장되어 있기 때문에 같은 값 출력\n"
      ],
      "metadata": {
        "colab": {
          "base_uri": "https://localhost:8080/"
        },
        "id": "tEQw0rzLLi_w",
        "outputId": "ded3a856-661b-40cb-c12d-e4a42645f40c"
      },
      "execution_count": null,
      "outputs": [
        {
          "output_type": "stream",
          "name": "stdout",
          "text": [
            "3\n"
          ]
        }
      ]
    },
    {
      "cell_type": "code",
      "source": [
        "#Account 클래스에 입금을 위한 deposit 메서드를 추가하세요. 입금은 최소 1원 이상만 가능합니다.\n",
        "\n",
        "class Account:\n",
        "\n",
        "    acc_count = 0\n",
        "\n",
        "    def __init__(self, name, balance):\n",
        "        self.name = name\n",
        "        self.balance = balance\n",
        "        self.bank = \"SC은행\"\n",
        "        \n",
        "        num1 = random.randint(0, 999)\n",
        "        num2 = random.randint(0, 99)\n",
        "        num3 = random.randint(0, 999999)\n",
        "\n",
        "        num1 = str(num1)\n",
        "        num2 = str(num2)\n",
        "        num3 = str(num3)\n",
        "\n",
        "        self.ac_num = num1+'-'+num2+'-'+num3\n",
        "\n",
        "        Account.acc_count += 1\n",
        "\n",
        "    def get_account_num(self):\n",
        "      print(Account.acc_count)\n",
        "\n",
        "    def deposit(self, num):\n",
        "      if num >= 1:\n",
        "        self.balance += num\n",
        "\n",
        "seo = Account(\"서다빈\", 100)\n",
        "print(seo.balance)\n",
        "seo.deposit(333)\n",
        "print(seo.balance)\n"
      ],
      "metadata": {
        "colab": {
          "base_uri": "https://localhost:8080/"
        },
        "id": "Tm-_haDAM4pm",
        "outputId": "60513dbb-4300-4803-afd3-871d6e350c91"
      },
      "execution_count": null,
      "outputs": [
        {
          "output_type": "stream",
          "name": "stdout",
          "text": [
            "100\n",
            "433\n"
          ]
        }
      ]
    },
    {
      "cell_type": "code",
      "source": [
        "#Account 클래스에 출금을 위한 withdraw 메서드를 추가. 출금은 계좌의 잔고 이상으로 출금할 수는 없습니다.\n",
        "class Account:\n",
        "\n",
        "    acc_count = 0\n",
        "\n",
        "    def __init__(self, name, balance):\n",
        "        self.name = name\n",
        "        self.balance = balance\n",
        "        self.bank = \"SC은행\"\n",
        "        \n",
        "        num1 = random.randint(0, 999)\n",
        "        num2 = random.randint(0, 99)\n",
        "        num3 = random.randint(0, 999999)\n",
        "\n",
        "        num1 = str(num1)\n",
        "        num2 = str(num2)\n",
        "        num3 = str(num3)\n",
        "\n",
        "        self.ac_num = num1+'-'+num2+'-'+num3\n",
        "\n",
        "        Account.acc_count += 1\n",
        "\n",
        "    def get_account_num(self):\n",
        "      print(Account.acc_count)\n",
        "\n",
        "    def deposit(self, num):\n",
        "      if num >= 1:\n",
        "        self.balance += num\n",
        "\n",
        "    def withdraw(self, num):\n",
        "      if self.balance > num :\n",
        "        self.balance -= num\n",
        "      else :\n",
        "        print(\"no\")\n",
        "\n",
        "k = Account(\"kim\", 100)\n",
        "k.deposit(100)\n",
        "k.withdraw(210)\n",
        "print(k.balance)\n"
      ],
      "metadata": {
        "colab": {
          "base_uri": "https://localhost:8080/"
        },
        "id": "2FMhinImQE2_",
        "outputId": "c02e75e5-f470-490b-9896-d0449736cf8a"
      },
      "execution_count": null,
      "outputs": [
        {
          "output_type": "stream",
          "name": "stdout",
          "text": [
            "no\n",
            "200\n"
          ]
        }
      ]
    },
    {
      "cell_type": "code",
      "source": [
        "#Account 인스턴스에 저장된 정보를 출력하는 display_info() 메서드를 추가\n",
        "\n",
        "class Account:\n",
        "\n",
        "    acc_count = 0\n",
        "\n",
        "    def __init__(self, name, balance):\n",
        "        self.name = name\n",
        "        self.balance = balance\n",
        "        self.bank = \"SC은행\"\n",
        "        \n",
        "        num1 = random.randint(0, 999)\n",
        "        num2 = random.randint(0, 99)\n",
        "        num3 = random.randint(0, 999999)\n",
        "\n",
        "        num1 = str(num1)\n",
        "        num2 = str(num2)\n",
        "        num3 = str(num3)\n",
        "\n",
        "        self.ac_num = num1+'-'+num2+'-'+num3\n",
        "\n",
        "        Account.acc_count += 1\n",
        "\n",
        "    def get_account_num(self):\n",
        "      print(Account.acc_count)\n",
        "\n",
        "    def deposit(self, num):\n",
        "      if num >= 1:\n",
        "        self.balance += num\n",
        "\n",
        "    def withdraw(self, num):\n",
        "      if self.balance > num :\n",
        "        self.balance -= num\n",
        "      else :\n",
        "        print(\"no\")\n",
        "\n",
        "    def display_info(self):\n",
        "        print(\"은행이름: \", self.bank)\n",
        "        print(\"예금주: \", self.name)\n",
        "        print(\"계좌번호: \", self.ac_num)\n",
        "        print(\"잔고: \", self.balance)\n",
        "\n",
        "\n",
        "p = Account(\"파이썬\", 10000)\n",
        "p.display_info()"
      ],
      "metadata": {
        "colab": {
          "base_uri": "https://localhost:8080/"
        },
        "id": "26ab3-t7TlZo",
        "outputId": "fe76c3ea-b48f-4a8b-d87e-225f0c238ced"
      },
      "execution_count": null,
      "outputs": [
        {
          "output_type": "stream",
          "name": "stdout",
          "text": [
            "은행이름:  SC은행\n",
            "예금주:  파이썬\n",
            "계좌번호:  865-49-36502\n",
            "잔고:  10000\n"
          ]
        }
      ]
    },
    {
      "cell_type": "code",
      "source": [
        "#입금 횟수가 5회가 될 때 잔고를 기준으로 1%의 이자가 잔고에 추가되도록 코드를 변경\n",
        "\n",
        "class Account:\n",
        "\n",
        "    acc_count = 0\n",
        "\n",
        "    def __init__(self, name, balance):\n",
        "        self.name = name\n",
        "        self.balance = balance\n",
        "        self.bank = \"SC은행\"\n",
        "        \n",
        "        num1 = random.randint(0, 999)\n",
        "        num2 = random.randint(0, 99)\n",
        "        num3 = random.randint(0, 999999)\n",
        "\n",
        "        num1 = str(num1)\n",
        "        num2 = str(num2)\n",
        "        num3 = str(num3)\n",
        "\n",
        "        self.ac_num = num1+'-'+num2+'-'+num3\n",
        "\n",
        "        Account.acc_count += 1\n",
        "        self.deposit_count = 0\n",
        "\n",
        "    def get_account_num(self):\n",
        "      print(Account.acc_count)\n",
        "\n",
        "    def deposit(self, num):\n",
        "      if num >= 1:\n",
        "        self.balance += num\n",
        "\n",
        "        self.deposit_count += 1\n",
        "        if self.deposit_count % 5 ==0 :\n",
        "          self.balance = (self.balance * 1.01)\n",
        "\n",
        "    def withdraw(self, num):\n",
        "      if self.balance > num :\n",
        "        self.balance -= num\n",
        "      else :\n",
        "        print(\"no\")\n",
        "\n",
        "    def display_info(self):\n",
        "        print(\"은행이름: \", self.bank)\n",
        "        print(\"예금주: \", self.name)\n",
        "        print(\"계좌번호: \", self.ac_num)\n",
        "        print(\"잔고: \", self.balance)\n",
        "\n",
        "p = Account(\"파이썬\", 10000)\n",
        "p.deposit(10000)\n",
        "p.deposit(10000)\n",
        "p.deposit(10000)\n",
        "p.deposit(5000)\n",
        "p.deposit(5000)\n",
        "print(p.balance)"
      ],
      "metadata": {
        "colab": {
          "base_uri": "https://localhost:8080/"
        },
        "id": "0IN_Ff3nTzIp",
        "outputId": "9fcd3fb2-7e59-4c2b-c937-292907c0a089"
      },
      "execution_count": null,
      "outputs": [
        {
          "output_type": "stream",
          "name": "stdout",
          "text": [
            "50500.0\n"
          ]
        }
      ]
    },
    {
      "cell_type": "code",
      "source": [
        "#Account 클래스로부터 3개 이상 인스턴스를 생성하고 생성된 인스턴스를 리스트에 저장\n",
        "#반복문을 통해 리스트에 있는 객체를 순회하면서 잔고가 100만원 이상인 고객의 정보만 출력\n",
        "\n",
        "class Account:\n",
        "\n",
        "    acc_count = 0\n",
        "\n",
        "    def __init__(self, name, balance):\n",
        "        self.name = name\n",
        "        self.balance = balance\n",
        "        self.bank = \"SC은행\"\n",
        "        \n",
        "        num1 = random.randint(0, 999)\n",
        "        num2 = random.randint(0, 99)\n",
        "        num3 = random.randint(0, 999999)\n",
        "\n",
        "        num1 = str(num1)\n",
        "        num2 = str(num2)\n",
        "        num3 = str(num3)\n",
        "\n",
        "        self.ac_num = num1+'-'+num2+'-'+num3\n",
        "\n",
        "        Account.acc_count += 1\n",
        "        self.deposit_count = 0\n",
        "\n",
        "    def get_account_num(self):\n",
        "      print(Account.acc_count)\n",
        "\n",
        "    def deposit(self, num):\n",
        "      if num >= 1:\n",
        "        self.balance += num\n",
        "\n",
        "        self.deposit_count += 1\n",
        "        if self.deposit_count % 5 ==0 :\n",
        "          self.balance = (self.balance * 1.01)\n",
        "\n",
        "    def withdraw(self, num):\n",
        "      if self.balance > num :\n",
        "        self.balance -= num\n",
        "      else :\n",
        "        print(\"no\")\n",
        "\n",
        "    def display_info(self):\n",
        "        print(\"은행이름: \", self.bank)\n",
        "        print(\"예금주: \", self.name)\n",
        "        print(\"계좌번호: \", self.ac_num)\n",
        "        print(\"잔고: \", self.balance)\n",
        "\n",
        "data =[]\n",
        "p = Account(\"파이썬\", 10000)\n",
        "y = Account(\"이썬\", 20000)\n",
        "t = Account(\"썬\", 30000)\n",
        "\n",
        "data.append(p)\n",
        "data.append(y)\n",
        "data.append(t)\n",
        "\n",
        "for i in data:\n",
        "  if i.balance > 10000 :\n",
        "      i.display_info()\n"
      ],
      "metadata": {
        "colab": {
          "base_uri": "https://localhost:8080/"
        },
        "id": "SbxzcLyvU-oD",
        "outputId": "aadc9c3e-0759-445c-d359-62c84ce18605"
      },
      "execution_count": null,
      "outputs": [
        {
          "output_type": "stream",
          "name": "stdout",
          "text": [
            "은행이름:  SC은행\n",
            "예금주:  이썬\n",
            "계좌번호:  262-78-855143\n",
            "잔고:  20000\n",
            "은행이름:  SC은행\n",
            "예금주:  썬\n",
            "계좌번호:  391-37-924083\n",
            "잔고:  30000\n"
          ]
        }
      ]
    },
    {
      "cell_type": "code",
      "source": [
        "class Account:\n",
        "\n",
        "    acc_count = 0\n",
        "\n",
        "    def __init__(self, name, balance):\n",
        "        self.name = name\n",
        "        self.balance = balance\n",
        "        self.bank = \"SC은행\"\n",
        "        \n",
        "        num1 = random.randint(0, 999)\n",
        "        num2 = random.randint(0, 99)\n",
        "        num3 = random.randint(0, 999999)\n",
        "\n",
        "        num1 = str(num1)\n",
        "        num2 = str(num2)\n",
        "        num3 = str(num3)\n",
        "\n",
        "        self.ac_num = num1+'-'+num2+'-'+num3\n",
        "\n",
        "        Account.acc_count += 1\n",
        "        self.deposit_count = 0\n",
        "        self.deposit_log = []\n",
        "        self.withdraw_log = []\n",
        "\n",
        "    def get_account_num(self):\n",
        "      print(Account.acc_count)\n",
        "\n",
        "    def deposit(self, num):\n",
        "      if num >= 1:\n",
        "        self.balance += num\n",
        "\n",
        "        self.deposit_count += 1\n",
        "        if self.deposit_count % 5 ==0 :\n",
        "          self.balance = (self.balance * 1.01)\n",
        "\n",
        "    def withdraw(self, num):\n",
        "      if self.balance > num :\n",
        "        self.balance -= num\n",
        "      else :\n",
        "        print(\"no\")\n",
        "\n",
        "    def display_info(self):\n",
        "        print(\"은행이름: \", self.bank)\n",
        "        print(\"예금주: \", self.name)\n",
        "        print(\"계좌번호: \", self.ac_num)\n",
        "        print(\"잔고: \", self.balance)\n",
        "\n",
        "    def withdraw_history(self):\n",
        "        for amount in self.withdraw_log:\n",
        "            print(amount)\n",
        "\n",
        "    def deposit_history(self):\n",
        "        for amount in self.deposit_log:\n",
        "            print(amount)\n",
        "\n",
        "k = Account(\"Kim\", 1000)\n",
        "k.deposit(100)\n",
        "k.deposit(200)\n",
        "k.deposit(300)\n",
        "k.deposit_history()\n",
        "\n",
        "k.withdraw(100)\n",
        "k.withdraw(200)\n",
        "k.withdraw_history()"
      ],
      "metadata": {
        "id": "xBLubaO3VaKA"
      },
      "execution_count": null,
      "outputs": []
    }
  ]
}