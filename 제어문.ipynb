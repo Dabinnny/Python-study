{
 "cells": [
  {
   "cell_type": "markdown",
   "id": "6e839cd8",
   "metadata": {},
   "source": [
    "# 제어문 기초 (if, for, while)\n"
   ]
  },
  {
   "cell_type": "code",
   "execution_count": 1,
   "id": "08f286e3",
   "metadata": {},
   "outputs": [
    {
     "name": "stdout",
     "output_type": "stream",
     "text": [
      "택시를 타라\n"
     ]
    }
   ],
   "source": [
    "\"주머니에 돈이 있으면 택시를 타고, 주머니에 돈은 없지만 카드가 있으면 택시를 타고, 돈도 없고 카드도 없으면 걸어 가라.\"\n",
    "pocket = ['paper', 'cellphone','card']\n",
    "if 'money' in pocket:\n",
    "    print('택시를 타라')\n",
    "elif 'card' :\n",
    "    print('택시를 타라')\n",
    "else :\n",
    "    print('걸어가라')"
   ]
  },
  {
   "cell_type": "code",
   "execution_count": 2,
   "id": "7bff240e",
   "metadata": {},
   "outputs": [
    {
     "name": "stdout",
     "output_type": "stream",
     "text": [
      "나무를 1번 찍었습니다\n",
      "나무를 2번 찍었습니다\n",
      "나무를 3번 찍었습니다\n",
      "나무를 4번 찍었습니다\n",
      "나무를 5번 찍었습니다\n",
      "나무를 6번 찍었습니다\n",
      "나무를 7번 찍었습니다\n",
      "나무를 8번 찍었습니다\n",
      "나무를 9번 찍었습니다\n",
      "나무를 10번 찍었습니다\n",
      "나무 넘어갑니다\n"
     ]
    }
   ],
   "source": [
    "treehit = 0\n",
    "while treehit < 10:\n",
    "    treehit += 1\n",
    "    print('나무를 %d번 찍었습니다'%treehit)\n",
    "    if treehit == 10 :\n",
    "        print('나무 넘어갑니다')"
   ]
  },
  {
   "cell_type": "code",
   "execution_count": 3,
   "id": "b86da8fc",
   "metadata": {},
   "outputs": [
    {
     "name": "stdout",
     "output_type": "stream",
     "text": [
      "돈을 넣어주세요:300\n",
      "커피 나왔습니다\n",
      "돈을 넣어주세요:350\n",
      "거스름돌 50원과 커피 나왔습니다\n",
      "커피가 다 떨어졌습니다.\n"
     ]
    }
   ],
   "source": [
    "coffee = 2\n",
    "\n",
    "while True:\n",
    "    money = int(input('돈을 넣어주세요:'))\n",
    "    if money == 300 :\n",
    "        coffee = coffee -1\n",
    "        print('커피 나왔습니다')\n",
    "    elif money > 300 :\n",
    "        coffee = coffee -1\n",
    "        print('거스름돌 %d원과 커피 나왔습니다'%(money-300))\n",
    "    else  :\n",
    "        print('커피를 드릴 수 없습니다')\n",
    "    if coffee == 0 :\n",
    "        print(\"커피가 다 떨어졌습니다.\")\n",
    "        break"
   ]
  },
  {
   "cell_type": "code",
   "execution_count": 4,
   "id": "58ec870a",
   "metadata": {},
   "outputs": [
    {
     "name": "stdout",
     "output_type": "stream",
     "text": [
      "1\n",
      "3\n",
      "5\n",
      "7\n",
      "9\n"
     ]
    }
   ],
   "source": [
    "#홀수만 출력\n",
    "a = 0\n",
    "while a < 10 :\n",
    "    a += 1\n",
    "    if a % 2 == 0 :\n",
    "        continue\n",
    "    print(a)"
   ]
  },
  {
   "cell_type": "code",
   "execution_count": 5,
   "id": "7ff015a0",
   "metadata": {},
   "outputs": [
    {
     "name": "stdout",
     "output_type": "stream",
     "text": [
      "3\n",
      "7\n",
      "11\n"
     ]
    }
   ],
   "source": [
    "a = [(1,2), (3,4), (5,6)]\n",
    "for (first,last) in a :\n",
    "    print(first+last)"
   ]
  },
  {
   "cell_type": "code",
   "execution_count": 5,
   "id": "3ee2625a",
   "metadata": {},
   "outputs": [
    {
     "name": "stdout",
     "output_type": "stream",
     "text": [
      "1번 학생 합격입니다\n",
      "2번 학생 불합격입니다\n",
      "3번 학생 합격입니다\n",
      "4번 학생 불합격입니다\n",
      "5번 학생 합격입니다\n"
     ]
    }
   ],
   "source": [
    "marks = [90, 25, 67, 45, 80]\n",
    "\n",
    "i = 0\n",
    "for mark in marks :\n",
    "    i += 1\n",
    "    if mark >= 60:\n",
    "        print('%d번 학생 합격입니다'%i)\n",
    "    else:\n",
    "        print('%d번 학생 불합격입니다'%i)"
   ]
  },
  {
   "cell_type": "code",
   "execution_count": 9,
   "id": "13e2bd17",
   "metadata": {},
   "outputs": [
    {
     "name": "stdout",
     "output_type": "stream",
     "text": [
      "1번 학생 합격입니다.축하합니다\n",
      "3번 학생 합격입니다.축하합니다\n",
      "5번 학생 합격입니다.축하합니다\n"
     ]
    }
   ],
   "source": [
    "marks = [90, 25, 67, 45, 80]\n",
    "\n",
    "i = 0\n",
    "for mark in marks :\n",
    "    i += 1\n",
    "    if mark >= 60:\n",
    "        print('%d번 학생 합격입니다.축하합니다'%i)\n",
    "    else:\n",
    "        pass"
   ]
  },
  {
   "cell_type": "code",
   "execution_count": 11,
   "id": "83ba93dd",
   "metadata": {},
   "outputs": [
    {
     "name": "stdout",
     "output_type": "stream",
     "text": [
      "2번 학생 축하합니다\n",
      "4번 학생 축하합니다\n"
     ]
    }
   ],
   "source": [
    "marks = [90, 25, 67, 45, 80]\n",
    "\n",
    "for number in range(len(marks)):\n",
    "    if marks[number] < 60 :\n",
    "        print('%d번 학생 축하합니다'%(number+1))\n",
    "    else : \n",
    "        continue"
   ]
  },
  {
   "cell_type": "code",
   "execution_count": 22,
   "id": "0a006e25",
   "metadata": {},
   "outputs": [
    {
     "name": "stdout",
     "output_type": "stream",
     "text": [
      "2 4 6 8 10 12 14 16 18 \n",
      "3 6 9 12 15 18 21 24 27 \n",
      "4 8 12 16 20 24 28 32 36 \n",
      "5 10 15 20 25 30 35 40 45 \n",
      "6 12 18 24 30 36 42 48 54 \n",
      "7 14 21 28 35 42 49 56 63 \n",
      "8 16 24 32 40 48 56 64 72 \n",
      "9 18 27 36 45 54 63 72 81 \n"
     ]
    }
   ],
   "source": [
    "for i in range(2,10):\n",
    "    for j in range(1,10):\n",
    "        print(i*j, end=' ')\n",
    "    print('')"
   ]
  },
  {
   "cell_type": "code",
   "execution_count": 23,
   "id": "7343c89a",
   "metadata": {},
   "outputs": [
    {
     "name": "stdout",
     "output_type": "stream",
     "text": [
      "[3, 6, 9, 12]\n"
     ]
    }
   ],
   "source": [
    "a = [1,2,3,4]\n",
    "result = []\n",
    "for i in a :\n",
    "    result.append(i*3)\n",
    "    \n",
    "print(result)"
   ]
  },
  {
   "cell_type": "markdown",
   "id": "621ef3c8",
   "metadata": {},
   "source": [
    "# comprehension\n",
    "[표현식 for 항목 in 반복가능객체 if 조건문]"
   ]
  },
  {
   "cell_type": "code",
   "execution_count": 25,
   "id": "53e4fa2e",
   "metadata": {},
   "outputs": [
    {
     "name": "stdout",
     "output_type": "stream",
     "text": [
      "[6, 12]\n"
     ]
    }
   ],
   "source": [
    "a = [1,2,3,4]\n",
    "\n",
    "result = [i*3 for i in a if i%2==0]\n",
    "print(result)"
   ]
  },
  {
   "cell_type": "code",
   "execution_count": 29,
   "id": "65e80665",
   "metadata": {},
   "outputs": [
    {
     "name": "stdout",
     "output_type": "stream",
     "text": [
      "[2, 6, 10]\n"
     ]
    }
   ],
   "source": [
    "numbers = [1, 2, 3, 4, 5]\n",
    "result = [i*2 for i in numbers if i%2==1]\n",
    "print(result)"
   ]
  },
  {
   "cell_type": "code",
   "execution_count": 30,
   "id": "c39d2b58",
   "metadata": {},
   "outputs": [],
   "source": [
    "class Human:\n",
    "    def __init__(self, name, age):\n",
    "        self.name = name\n",
    "        self.age = age\n",
    "\n",
    "\n",
    "# 아래 humans에 할당된 list object는 다음과 같다.\n",
    "# Human(\"이름\", 연령)\n",
    "humans = [\n",
    "    Human(\"Abi\", 29),\n",
    "    Human(\"Batista\", 32),\n",
    "    Human(\"Charlse\", 37),\n",
    "    Human(\"Dolphine\", 30),\n",
    "    Human(\"Eva\", 26),\n",
    "    Human(\"Frin\", 18),\n",
    "    Human(\"Gless\", 42),\n",
    "    Human(\"Harby\", 12),\n",
    "    Human(\"Iris\", 41),\n",
    "    Human(\"David\", 31),\n",
    "]\n"
   ]
  },
  {
   "cell_type": "code",
   "execution_count": 31,
   "id": "8275669b",
   "metadata": {},
   "outputs": [
    {
     "name": "stdout",
     "output_type": "stream",
     "text": [
      "Starts with D:\n",
      "['Dolphine', 'David']\n",
      "Ends with e:\n",
      "['Charlse', 'Dolphine']\n",
      "Starts between C and G, inclusive:\n",
      "['Charlse', 'Dolphine', 'Eva', 'Frin', 'Gless', 'David']\n",
      "Ages plus 10:\n",
      "[39, 42, 47, 40, 36, 28, 52, 22, 51, 41]\n",
      "Name hyphen age:\n",
      "['Abi-29', 'Batista-32', 'Charlse-37', 'Dolphine-30', 'Eva-26', 'Frin-18', 'Gless-42', 'Harby-12', 'Iris-41', 'David-31']\n"
     ]
    },
    {
     "data": {
      "text/plain": [
       "['Abi-29',\n",
       " 'Batista-32',\n",
       " 'Charlse-37',\n",
       " 'Dolphine-30',\n",
       " 'Eva-26',\n",
       " 'Frin-18',\n",
       " 'Gless-42',\n",
       " 'Harby-12',\n",
       " 'Iris-41',\n",
       " 'David-31']"
      ]
     },
     "execution_count": 31,
     "metadata": {},
     "output_type": "execute_result"
    }
   ],
   "source": [
    "# 1-1) 이름을 출력해보자.\n",
    "# 출력조건 : 'D'로 시작하는 이름을 출력하자.\n",
    "def quesion1():\n",
    "    print(\"Starts with D:\")\n",
    "    a = [human.name for human in humans if human.name.startswith(\"D\")]\n",
    "    print(a)\n",
    "    return(a)\n",
    "\n",
    "# 1-2) 이름을 출력해보자.\n",
    "# 출력조건 : 'e'로 끝나는 이름을 출력하자.\n",
    "def quesion2():\n",
    "    print(\"Ends with e:\")\n",
    "    b = [human.name for human in humans if human.name.endswith(\"e\")]\n",
    "    print(b)\n",
    "    return(b)\n",
    "\n",
    "# 1-3) 이름을 출력해보자.\n",
    "# 출력조건 : 이름스펠링이 'C' 와 'G' 사이로 시작하는 이름을 출력하자.\n",
    "def quesion3():\n",
    "    print(\"Starts between C and G, inclusive:\")\n",
    "    c = [human.name for human in humans if human.name[0] in \"CDEFG\"]\n",
    "    print(c)\n",
    "    return(c)\n",
    "\n",
    "# 1-4) 연령을 출력해보자.\n",
    "# 출력조건 : 주어진 모든 연령에 대해 10을 더한상태의 연령을 출력하자.\n",
    "def quesion4():\n",
    "    print(\"Ages plus 10:\")\n",
    "    d = [human.age + 10 for human in humans]\n",
    "    print(d)\n",
    "    return(d)\n",
    "\n",
    "# 1-5) 이름과 연령을 출력해보자.\n",
    "# 출력조건 : '이름-연령'의 형식으로 이름과 연령을 출력하자.\n",
    "def quesion5():\n",
    "    print(\"Name hyphen age:\")\n",
    "    e = ['{}-{}'.format(human.name,human.age) for human in humans ]\n",
    "    print(e)\n",
    "    return(e)\n",
    "\n",
    "quesion1()\n",
    "quesion2()\n",
    "quesion3()\n",
    "quesion4()\n",
    "quesion5()"
   ]
  },
  {
   "cell_type": "code",
   "execution_count": 32,
   "id": "04b2742c",
   "metadata": {},
   "outputs": [
    {
     "name": "stdout",
     "output_type": "stream",
     "text": [
      "Names and ages between 27 and 32:\n",
      "['Abi-29', 'Batista-32', 'Dolphine-30', 'David-31']\n",
      "All names uppercase:\n",
      "['(ABI,34)', '(BATISTA,37)', '(CHARLSE,42)', '(DOLPHINE,35)', '(EVA,31)', '(FRIN,23)', '(GLESS,47)', '(HARBY,17)', '(IRIS,46)', '(DAVID,36)']\n"
     ]
    },
    {
     "data": {
      "text/plain": [
       "['(ABI,34)',\n",
       " '(BATISTA,37)',\n",
       " '(CHARLSE,42)',\n",
       " '(DOLPHINE,35)',\n",
       " '(EVA,31)',\n",
       " '(FRIN,23)',\n",
       " '(GLESS,47)',\n",
       " '(HARBY,17)',\n",
       " '(IRIS,46)',\n",
       " '(DAVID,36)']"
      ]
     },
     "execution_count": 32,
     "metadata": {},
     "output_type": "execute_result"
    }
   ],
   "source": [
    "# 1-6) 이름과 연령을 출력해보자.\n",
    "# 출력조건 : '이름-연령'의 형식으로 27~32세의 연령을 갖고 있는 사람의 이름과 연령을 출력하자.\n",
    "def quesion6():\n",
    "    print(\"Names and ages between 27 and 32:\")\n",
    "    f = ['{}-{}'.format(human.name,human.age) for human in humans if human.age >= 27 and human.age <= 32]\n",
    "    print(f)\n",
    "    return(f)\n",
    "\n",
    "# 1-7) 이름과 연령을 출력해보자.\n",
    "# 출력조건 : (\"이름\", 연령)의 형식으로 이름을 대문자로 변경시키고 연령에 5를 더한상태의 이름과 연령을 출력하자.\n",
    "def quesion7():\n",
    "    print(\"All names uppercase:\")\n",
    "    g = ['({},{})'.format(human.name.upper(),human.age+5) for human in humans ]\n",
    "    print(g)\n",
    "    return(g)\n",
    "\n",
    "quesion6()\n",
    "quesion7()"
   ]
  },
  {
   "cell_type": "code",
   "execution_count": 33,
   "id": "26356dca",
   "metadata": {},
   "outputs": [
    {
     "name": "stdout",
     "output_type": "stream",
     "text": [
      "Square root of ages:\n",
      "[5.39, 5.66, 6.08, 5.48, 5.1, 4.24, 6.48, 3.46, 6.4, 5.57]\n"
     ]
    },
    {
     "data": {
      "text/plain": [
       "[5.39, 5.66, 6.08, 5.48, 5.1, 4.24, 6.48, 3.46, 6.4, 5.57]"
      ]
     },
     "execution_count": 33,
     "metadata": {},
     "output_type": "execute_result"
    }
   ],
   "source": [
    "# 1-8) 연령을 출력해보자.\n",
    "# 출력조건 : 모든 연령을 제곱근으로 변경시키고, 제곱근에 대해 소수점 2째자리까지 표현하는 연령을 출력하자. (결과값은 반올림을 해야하며 반올림관련 내장함수를 활용해야 합니다.)\n",
    "def quesion8():\n",
    "    print(\"Square root of ages:\")\n",
    "    h = [round(human.age**(1/2),2) for human in humans]\n",
    "    print(h)\n",
    "    return(h)\n",
    "\n",
    "quesion8()"
   ]
  }
 ],
 "metadata": {
  "kernelspec": {
   "display_name": "Python 3 (ipykernel)",
   "language": "python",
   "name": "python3"
  },
  "language_info": {
   "codemirror_mode": {
    "name": "ipython",
    "version": 3
   },
   "file_extension": ".py",
   "mimetype": "text/x-python",
   "name": "python",
   "nbconvert_exporter": "python",
   "pygments_lexer": "ipython3",
   "version": "3.8.12"
  }
 },
 "nbformat": 4,
 "nbformat_minor": 5
}
